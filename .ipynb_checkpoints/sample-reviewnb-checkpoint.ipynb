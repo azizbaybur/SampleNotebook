{
 "cells": [
  {
   "cell_type": "code",
   "execution_count": 13,
   "id": "bb12a08a",
   "metadata": {},
   "outputs": [],
   "source": [
    "import pyodbc\n",
    "import pandas as pd\n",
    "import os\n",
    "import datetime as dt\n",
    "\n",
    "conn = pyodbc.connect(DSN='<DSN>', autocommit = True)\n",
    "app = 'param_names'"
   ]
  },
  {
   "cell_type": "code",
   "execution_count": null,
   "id": "bc398ef7",
   "metadata": {},
   "outputs": [],
   "source": [
    "sql = \"select * from <schema>.>table>\"\n",
    "df = pd.read_sql(sql,conn)\n",
    "df.head()\n",
    "print('some changes')"
   ]
  },
  {
   "cell_type": "code",
   "execution_count": null,
   "id": "b048f9d0",
   "metadata": {},
   "outputs": [],
   "source": [
    "print('some new cells')"
   ]
  },
  {
   "cell_type": "code",
   "execution_count": 12,
   "id": "3478a304",
   "metadata": {},
   "outputs": [
    {
     "name": "stdout",
     "output_type": "stream",
     "text": [
      "C:\\Users\\BAZ6BU\\Documents\\JupyterNotebook\\data\\data_param_names_24.05.2022_23:52:11.csv\n"
     ]
    }
   ],
   "source": [
    "cwd = os.path.dirname(os.getcwd())\n",
    "raw_directory = cwd + '\\\\JupyterNotebook\\\\data\\\\'\n",
    "processed_directory = cwd + '\\\\JupyterNotebook\\\\output\\\\'\n",
    "graph_directory = cwd + '\\\\JupyterNotebook\\\\graph\\\\'\n",
    "file_name = 'data_' + app + str(dt.datetime.now().strftime(\"_%d.%m.%Y_%H:%M:%S\")) + '.csv'\n",
    "print(raw_directory + file_name)\n",
    "print('some changes')"
   ]
  },
  {
   "cell_type": "code",
   "execution_count": 3,
   "id": "a0e83f13",
   "metadata": {},
   "outputs": [],
   "source": [
    "df.to_csv(raw_directory + file_name, sep=';', header=True, encoding='utf-8', index=False, decimal=',')"
   ]
  },
  {
   "cell_type": "code",
   "execution_count": null,
   "id": "9e042345",
   "metadata": {},
   "outputs": [],
   "source": [
    "print('some new cells')"
   ]
  }
 ],
 "metadata": {
  "kernelspec": {
   "display_name": "Python 3 (ipykernel)",
   "language": "python",
   "name": "python3"
  },
  "language_info": {
   "codemirror_mode": {
    "name": "ipython",
    "version": 3
   },
   "file_extension": ".py",
   "mimetype": "text/x-python",
   "name": "python",
   "nbconvert_exporter": "python",
   "pygments_lexer": "ipython3",
   "version": "3.8.13"
  }
 },
 "nbformat": 4,
 "nbformat_minor": 5
}
